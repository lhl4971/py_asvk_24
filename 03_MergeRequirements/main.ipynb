{
 "cells": [
  {
   "cell_type": "code",
   "execution_count": 1,
   "metadata": {},
   "outputs": [],
   "source": [
    "from bullscows import gameplay\n",
    "from gameplay_io import ask,inform\n",
    "from import_txt_file import import_txt_file"
   ]
  },
  {
   "cell_type": "code",
   "execution_count": 2,
   "metadata": {},
   "outputs": [
    {
     "name": "stdout",
     "output_type": "stream",
     "text": [
      "　＿＿＿＿＿＿＿＿＿＿＿＿＿＿＿＿＿＿＿＿　\n",
      "＜　Быки：　０，　Коровы：　０　＞\n",
      "　－－－－－－－－－－－－－－－－－－－－　\n",
      "  \\\n",
      "   \\    (__)               \n",
      "        oo\\               \n",
      "       ('') \\---------     \n",
      "          \\           \\    \n",
      "           |          |\\   \n",
      "           ||---(  )_|| *  \n",
      "           ||    UU  ||    \n",
      "           ==        ==    \n",
      "　＿＿＿＿＿＿＿＿＿＿＿＿＿＿＿＿＿＿＿＿　\n",
      "＜　Быки：　０，　Коровы：　０　＞\n",
      "　－－－－－－－－－－－－－－－－－－－－　\n",
      "  \\\n",
      "   \\                       _\n",
      "                          / )      \n",
      "                         / /       \n",
      "      //|                \\ \\       \n",
      "   .-`^ \\   .-`````-.     \\ \\      \n",
      " o` {|}  \\_/         \\    / /      \n",
      " '--,  _ //   .---.   \\  / /       \n",
      "   ^^^` )/  ,/     \\   \\/ /        \n",
      "        (  /)      /\\/   /         \n",
      "        / / (     / (   /          \n",
      "    ___/ /) (  __/ __\\ (           \n",
      "   (((__)((__)((__(((___)          \n",
      "　＿＿＿＿＿＿＿＿＿＿＿＿＿＿＿＿＿＿＿＿　\n",
      "＜　Быки：　０，　Коровы：　０　＞\n",
      "　－－－－－－－－－－－－－－－－－－－－　\n",
      "   \\\n",
      "    \\\n",
      "        /\\O\n",
      "         /\\/\n",
      "        /\\\n",
      "       /  \\\n",
      "      LOL LOL\n",
      ":-D LOLLERSKATES :-D\n",
      "　＿＿＿＿＿＿＿＿＿＿＿＿＿＿＿＿＿＿＿＿　\n",
      "＜　Быки：　０，　Коровы：　０　＞\n",
      "　－－－－－－－－－－－－－－－－－－－－　\n",
      "  \\\n",
      "   \\\n",
      "       ___  \n",
      "     {~._.~}\n",
      "      ( Y )\n",
      "     ()~*~()   \n",
      "     (_)-(_)   \n",
      "　＿＿＿＿＿＿＿＿＿＿＿＿＿＿＿＿＿＿＿＿　\n",
      "＜　Быки：　０，　Коровы：　０　＞\n",
      "　－－－－－－－－－－－－－－－－－－－－　\n",
      " \\\n",
      "  \\\n",
      " _   /|\n",
      " \\'o.O'\n",
      " =(___)=\n",
      "    U\n"
     ]
    }
   ],
   "source": [
    "filename = \"./resource/sgb-words.txt\"\n",
    "words = import_txt_file(filename)\n",
    "print(gameplay(ask,inform,words))"
   ]
  }
 ],
 "metadata": {
  "kernelspec": {
   "display_name": "Python 3",
   "language": "python",
   "name": "python3"
  },
  "language_info": {
   "codemirror_mode": {
    "name": "ipython",
    "version": 3
   },
   "file_extension": ".py",
   "mimetype": "text/x-python",
   "name": "python",
   "nbconvert_exporter": "python",
   "pygments_lexer": "ipython3",
   "version": "3.11.8"
  }
 },
 "nbformat": 4,
 "nbformat_minor": 2
}
